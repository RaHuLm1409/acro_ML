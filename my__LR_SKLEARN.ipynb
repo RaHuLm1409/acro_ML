{
  "nbformat": 4,
  "nbformat_minor": 0,
  "metadata": {
    "kernelspec": {
      "display_name": "Python 3",
      "language": "python",
      "name": "python3"
    },
    "language_info": {
      "codemirror_mode": {
        "name": "ipython",
        "version": 3
      },
      "file_extension": ".py",
      "mimetype": "text/x-python",
      "name": "python",
      "nbconvert_exporter": "python",
      "pygments_lexer": "ipython3",
      "version": "3.7.3"
    },
    "colab": {
      "name": "my_ LR_SKLEARN.ipynb",
      "provenance": [],
      "collapsed_sections": [],
      "include_colab_link": true
    }
  },
  "cells": [
    {
      "cell_type": "markdown",
      "metadata": {
        "id": "view-in-github",
        "colab_type": "text"
      },
      "source": [
        "<a href=\"https://colab.research.google.com/github/RaHuLm1409/acro_ML/blob/master/my__LR_SKLEARN.ipynb\" target=\"_parent\"><img src=\"https://colab.research.google.com/assets/colab-badge.svg\" alt=\"Open In Colab\"/></a>"
      ]
    },
    {
      "cell_type": "code",
      "metadata": {
        "id": "Ayzj2PTp9pcc",
        "colab_type": "code",
        "colab": {}
      },
      "source": [
        "import pandas as pd\n",
        "import numpy as np\n",
        "import matplotlib.pyplot as plt"
      ],
      "execution_count": 0,
      "outputs": []
    },
    {
      "cell_type": "markdown",
      "metadata": {
        "id": "ouTG8Tvb9pck",
        "colab_type": "text"
      },
      "source": [
        "PREPARING THE DATASET"
      ]
    },
    {
      "cell_type": "code",
      "metadata": {
        "id": "j76ojSvH9pcm",
        "colab_type": "code",
        "outputId": "694a2e0e-ad6b-46c6-a858-435b7711cdcb",
        "colab": {
          "base_uri": "https://localhost:8080/",
          "height": 374
        }
      },
      "source": [
        "# intialise data of lists. \n",
        "data = {'passenger':[892,893,894,895,896,897,898,899,900,901,902,903,904,905,905,906,907,908,909,910], \n",
        "        'Scores':[0,1,0,0,1,0,1,0,1,0,0,0,1,0,1,1,0,0,1,0]} \n",
        "  \n",
        "# Create DataFrame \n",
        "passenger = pd.DataFrame(data) \n",
        "  \n",
        "# Print the output. \n",
        "print(passenger)"
      ],
      "execution_count": 51,
      "outputs": [
        {
          "output_type": "stream",
          "text": [
            "    passenger  Scores\n",
            "0         892       0\n",
            "1         893       1\n",
            "2         894       0\n",
            "3         895       0\n",
            "4         896       1\n",
            "5         897       0\n",
            "6         898       1\n",
            "7         899       0\n",
            "8         900       1\n",
            "9         901       0\n",
            "10        902       0\n",
            "11        903       0\n",
            "12        904       1\n",
            "13        905       0\n",
            "14        905       1\n",
            "15        906       1\n",
            "16        907       0\n",
            "17        908       0\n",
            "18        909       1\n",
            "19        910       0\n"
          ],
          "name": "stdout"
        }
      ]
    },
    {
      "cell_type": "markdown",
      "metadata": {
        "id": "Xc2RcBQF9pcs",
        "colab_type": "text"
      },
      "source": [
        "SEPARATING THE DEPENDENT AND INDEPENDENT VARIABLES"
      ]
    },
    {
      "cell_type": "code",
      "metadata": {
        "id": "VrEJjZbh9pct",
        "colab_type": "code",
        "outputId": "b22e0676-142e-4dd7-d540-dd86c6e2ec21",
        "colab": {
          "base_uri": "https://localhost:8080/",
          "height": 374
        }
      },
      "source": [
        "X = passenger.iloc[ : ,   : 1 ].values\n",
        "Y = passenger.iloc[ : , 1].values\n",
        "print(X)\n",
        "print(Y)"
      ],
      "execution_count": 52,
      "outputs": [
        {
          "output_type": "stream",
          "text": [
            "[[892]\n",
            " [893]\n",
            " [894]\n",
            " [895]\n",
            " [896]\n",
            " [897]\n",
            " [898]\n",
            " [899]\n",
            " [900]\n",
            " [901]\n",
            " [902]\n",
            " [903]\n",
            " [904]\n",
            " [905]\n",
            " [905]\n",
            " [906]\n",
            " [907]\n",
            " [908]\n",
            " [909]\n",
            " [910]]\n",
            "[0 1 0 0 1 0 1 0 1 0 0 0 1 0 1 1 0 0 1 0]\n"
          ],
          "name": "stdout"
        }
      ]
    },
    {
      "cell_type": "markdown",
      "metadata": {
        "id": "QXs6YOrO9pcx",
        "colab_type": "text"
      },
      "source": [
        "SPLITTING THE DATASET INTO TRAIN AND TEST SETS"
      ]
    },
    {
      "cell_type": "code",
      "metadata": {
        "id": "OFUfUbl79pcy",
        "colab_type": "code",
        "colab": {}
      },
      "source": [
        "from sklearn.model_selection import train_test_split\n",
        "X_train, X_test, Y_train, Y_test = train_test_split( X, Y, test_size = 1/3, random_state = 5)"
      ],
      "execution_count": 0,
      "outputs": []
    },
    {
      "cell_type": "markdown",
      "metadata": {
        "id": "tMqmVv_TTDPv",
        "colab_type": "text"
      },
      "source": [
        "X_test"
      ]
    },
    {
      "cell_type": "code",
      "metadata": {
        "id": "be_bAhJCS5-J",
        "colab_type": "code",
        "outputId": "7216fdcf-88c8-49cb-db42-1ebcd273acae",
        "colab": {
          "base_uri": "https://localhost:8080/",
          "height": 238
        }
      },
      "source": [
        "X_train"
      ],
      "execution_count": 54,
      "outputs": [
        {
          "output_type": "execute_result",
          "data": {
            "text/plain": [
              "array([[902],\n",
              "       [905],\n",
              "       [909],\n",
              "       [899],\n",
              "       [896],\n",
              "       [900],\n",
              "       [901],\n",
              "       [892],\n",
              "       [907],\n",
              "       [898],\n",
              "       [906],\n",
              "       [905],\n",
              "       [895]])"
            ]
          },
          "metadata": {
            "tags": []
          },
          "execution_count": 54
        }
      ]
    },
    {
      "cell_type": "code",
      "metadata": {
        "id": "GKvwpohQS2Ss",
        "colab_type": "code",
        "colab": {}
      },
      "source": [
        ""
      ],
      "execution_count": 0,
      "outputs": []
    },
    {
      "cell_type": "code",
      "metadata": {
        "id": "CPAYYivU9pc2",
        "colab_type": "code",
        "colab": {}
      },
      "source": [
        "from sklearn.linear_model import LinearRegression\n",
        "regressor = LinearRegression()\n",
        "regressor = regressor.fit(X_train, Y_train)"
      ],
      "execution_count": 0,
      "outputs": []
    },
    {
      "cell_type": "code",
      "metadata": {
        "id": "WYcEcbB59pc6",
        "colab_type": "code",
        "colab": {}
      },
      "source": [
        "Y_pred = regressor.predict(X_test)"
      ],
      "execution_count": 0,
      "outputs": []
    },
    {
      "cell_type": "code",
      "metadata": {
        "id": "UBfIy9J69pc9",
        "colab_type": "code",
        "outputId": "3638134b-415f-4a95-8610-369f8c1c3430",
        "colab": {
          "base_uri": "https://localhost:8080/",
          "height": 282
        }
      },
      "source": [
        "plt.scatter(X_train , Y_train, color = 'green')\n",
        "plt.plot(X_train , regressor.predict(X_train), color ='red')"
      ],
      "execution_count": 57,
      "outputs": [
        {
          "output_type": "execute_result",
          "data": {
            "text/plain": [
              "[<matplotlib.lines.Line2D at 0x7f106ab5ecf8>]"
            ]
          },
          "metadata": {
            "tags": []
          },
          "execution_count": 57
        },
        {
          "output_type": "display_data",
          "data": {
            "image/png": "[encoded data removed]",
            "text/plain": [
              "<Figure size 432x288 with 1 Axes>"
            ]
          },
          "metadata": {
            "tags": []
          }
        }
      ]
    },
    {
      "cell_type": "code",
      "metadata": {
        "id": "vg964kWJ9pdB",
        "colab_type": "code",
        "outputId": "fd078387-10e2-47ab-8bd5-49900a3dc2e8",
        "colab": {
          "base_uri": "https://localhost:8080/",
          "height": 282
        }
      },
      "source": [
        "plt.scatter(X_test , Y_test, color = 'red')\n",
        "plt.plot(X_test , regressor.predict(X_test), color ='blue')"
      ],
      "execution_count": 58,
      "outputs": [
        {
          "output_type": "execute_result",
          "data": {
            "text/plain": [
              "[<matplotlib.lines.Line2D at 0x7f106aa9cc88>]"
            ]
          },
          "metadata": {
            "tags": []
          },
          "execution_count": 58
        },
        {
          "output_type": "display_data",
          "data": {
            "image/png": "[encoded data removed]",
            "text/plain": [
              "<Figure size 432x288 with 1 Axes>"
            ]
          },
          "metadata": {
            "tags": []
          }
        }
      ]
    },
    {
      "cell_type": "code",
      "metadata": {
        "id": "jx6qnMDp9pdF",
        "colab_type": "code",
        "outputId": "55534e17-5aba-4564-f7e5-57b048b63b2e",
        "colab": {
          "base_uri": "https://localhost:8080/",
          "height": 51
        }
      },
      "source": [
        "from sklearn.metrics import mean_squared_error, r2_score\n",
        "import math\n",
        "print(mean_squared_error(Y_test, Y_pred))\n",
        "print(r2_score(Y_test, Y_pred))"
      ],
      "execution_count": 59,
      "outputs": [
        {
          "output_type": "stream",
          "text": [
            "0.2916977964238083\n",
            "-0.42931920247666033\n"
          ],
          "name": "stdout"
        }
      ]
    },
    {
      "cell_type": "code",
      "metadata": {
        "id": "mIOTQDmx9pdJ",
        "colab_type": "code",
        "colab": {}
      },
      "source": [
        ""
      ],
      "execution_count": 0,
      "outputs": []
    }
  ]
}