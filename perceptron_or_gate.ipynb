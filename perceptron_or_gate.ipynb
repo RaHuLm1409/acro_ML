{
  "nbformat": 4,
  "nbformat_minor": 0,
  "metadata": {
    "colab": {
      "name": "perceptron_or_gate.ipynb",
      "provenance": [],
      "authorship_tag": "ABX9TyOc3pccPwHwa18oOAeCJpV6",
      "include_colab_link": true
    },
    "kernelspec": {
      "name": "python3",
      "display_name": "Python 3"
    }
  },
  "cells": [
    {
      "cell_type": "markdown",
      "metadata": {
        "id": "view-in-github",
        "colab_type": "text"
      },
      "source": [
        "<a href=\"https://colab.research.google.com/github/RaHuLm1409/acro_ML/blob/master/perceptron_or_gate.ipynb\" target=\"_parent\"><img src=\"https://colab.research.google.com/assets/colab-badge.svg\" alt=\"Open In Colab\"/></a>"
      ]
    },
    {
      "cell_type": "code",
      "metadata": {
        "id": "1Tk2ZEKZzggp",
        "colab_type": "code",
        "colab": {}
      },
      "source": [
        "import numpy as np"
      ],
      "execution_count": 0,
      "outputs": []
    },
    {
      "cell_type": "code",
      "metadata": {
        "id": "QIXjPJY-0j7K",
        "colab_type": "code",
        "colab": {}
      },
      "source": [
        "class Perceptron:\n",
        "  def __init__(self,ip,lr=0.1,epochs=100):\n",
        "    self.w=np.zeros(ip+1)\n",
        "    self.lr=lr\n",
        "    self.epochs=epochs\n",
        "    self.loss_lst=[]\n",
        "\n",
        "  def acti(self,z):\n",
        "    return 1 if z>=0  else 0\n",
        "\n",
        "  def predict(self,X):\n",
        "    z=self.w.T.dot(X)\n",
        "    a=self.acti(z)\n",
        "    return a\n",
        "\n",
        "  def fit(self,x,d):\n",
        "    for i in range(self.epochs):\n",
        "      l=0\n",
        "      for j in range(d.shape[0]):\n",
        "        X=np.insert(x[j],0,1)\n",
        "        y=self.predict(X)\n",
        "        e=d[j]-y\n",
        "        l+=e**2\n",
        "        self.w= self.w+ self.lr *e*X\n",
        "      l=l/4\n",
        "      self.loss_lst.append(l)"
      ],
      "execution_count": 0,
      "outputs": []
    },
    {
      "cell_type": "code",
      "metadata": {
        "id": "oW5maKMxzrP5",
        "colab_type": "code",
        "colab": {
          "base_uri": "https://localhost:8080/",
          "height": 34
        },
        "outputId": "c0bf5e86-7e4c-44a4-d3f3-a599497cbc0f"
      },
      "source": [
        "if __name__ == '__main__':\n",
        "  x=np.array([\n",
        "              [0,0],\n",
        "              [0,1],\n",
        "              [1,0],\n",
        "              [1,1]\n",
        "  ])\n",
        "\n",
        "  d= np.array([0,1,1,1])\n",
        "\n",
        "  ptn=Perceptron(ip=2)\n",
        "  ptn.fit(x,d)\n",
        "  print(ptn.w)"
      ],
      "execution_count": 57,
      "outputs": [
        {
          "output_type": "stream",
          "text": [
            "[-0.1  0.1  0.1]\n"
          ],
          "name": "stdout"
        }
      ]
    },
    {
      "cell_type": "code",
      "metadata": {
        "id": "RlsQBYb8-UJr",
        "colab_type": "code",
        "colab": {
          "base_uri": "https://localhost:8080/",
          "height": 265
        },
        "outputId": "d7bdc97b-1e78-4d5c-8938-57c84ddc42cd"
      },
      "source": [
        "import matplotlib.pyplot as plt\n",
        "x_axis=[int(x) for x in range(100)]\n",
        "y_axis = ptn.loss_lst\n",
        "plt.plot(x_axis,y_axis)\n",
        "plt.show()"
      ],
      "execution_count": 58,
      "outputs": [
        {
          "output_type": "display_data",
          "data": {
            "image/png": "[encoded data removed]",
            "text/plain": [
              "<Figure size 432x288 with 1 Axes>"
            ]
          },
          "metadata": {
            "tags": []
          }
        }
      ]
    },
    {
      "cell_type": "code",
      "metadata": {
        "id": "G63VqaOG-a0Y",
        "colab_type": "code",
        "colab": {}
      },
      "source": [
        ""
      ],
      "execution_count": 0,
      "outputs": []
    }
  ]
}