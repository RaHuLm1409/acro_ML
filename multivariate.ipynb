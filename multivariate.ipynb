{
  "nbformat": 4,
  "nbformat_minor": 0,
  "metadata": {
    "kernelspec": {
      "display_name": "Python 3",
      "language": "python",
      "name": "python3"
    },
    "language_info": {
      "codemirror_mode": {
        "name": "ipython",
        "version": 3
      },
      "file_extension": ".py",
      "mimetype": "text/x-python",
      "name": "python",
      "nbconvert_exporter": "python",
      "pygments_lexer": "ipython3",
      "version": "3.7.3"
    },
    "colab": {
      "name": "multivariate.ipynb",
      "provenance": [],
      "collapsed_sections": [],
      "include_colab_link": true
    }
  },
  "cells": [
    {
      "cell_type": "markdown",
      "metadata": {
        "id": "view-in-github",
        "colab_type": "text"
      },
      "source": [
        "<a href=\"https://colab.research.google.com/github/RaHuLm1409/acro_ML/blob/master/multivariate.ipynb\" target=\"_parent\"><img src=\"https://colab.research.google.com/assets/colab-badge.svg\" alt=\"Open In Colab\"/></a>"
      ]
    },
    {
      "cell_type": "code",
      "metadata": {
        "id": "Ayzj2PTp9pcc",
        "colab_type": "code",
        "colab": {}
      },
      "source": [
        "import pandas as pd\n",
        "import numpy as np\n",
        "import matplotlib.pyplot as plt"
      ],
      "execution_count": 0,
      "outputs": []
    },
    {
      "cell_type": "markdown",
      "metadata": {
        "id": "ouTG8Tvb9pck",
        "colab_type": "text"
      },
      "source": [
        "PREPARING THE DATASET"
      ]
    },
    {
      "cell_type": "code",
      "metadata": {
        "id": "j76ojSvH9pcm",
        "colab_type": "code",
        "outputId": "89166daf-11d5-42b6-a546-e26c2ceed6f4",
        "colab": {
          "base_uri": "https://localhost:8080/",
          "height": 255
        }
      },
      "source": [
        "# intialise data of lists. \n",
        "data = pd.read_csv(\"dataset1.csv\")\n",
        "  \n",
        "# Create DataFrame \n",
        "passenger = pd.DataFrame(data) \n",
        "  \n",
        "# Print the output. \n",
        "print(passenger)"
      ],
      "execution_count": 77,
      "outputs": [
        {
          "output_type": "stream",
          "text": [
            "    4.5192  2.6487  1.0\n",
            "0   2.4443  1.5438  1.0\n",
            "1   4.2409  1.8990  1.0\n",
            "2   5.8097  2.4711  1.0\n",
            "3   6.4423  3.3590  1.0\n",
            "4   5.8097  3.2406  1.0\n",
            "..     ...     ...  ...\n",
            "94  5.9868  7.3641  0.0\n",
            "95  4.6711  6.2592  0.0\n",
            "96  7.5810  8.3703  0.0\n",
            "97  4.6457  8.5676  0.0\n",
            "98  4.6457  8.1676  0.0\n",
            "\n",
            "[99 rows x 3 columns]\n"
          ],
          "name": "stdout"
        }
      ]
    },
    {
      "cell_type": "markdown",
      "metadata": {
        "id": "Xc2RcBQF9pcs",
        "colab_type": "text"
      },
      "source": [
        "SEPARATING THE DEPENDENT AND INDEPENDENT VARIABLES"
      ]
    },
    {
      "cell_type": "code",
      "metadata": {
        "id": "VrEJjZbh9pct",
        "colab_type": "code",
        "outputId": "544a27a3-8c71-46e4-ca01-1b0bd153510f",
        "colab": {
          "base_uri": "https://localhost:8080/",
          "height": 1000
        }
      },
      "source": [
        "X = passenger.iloc[ : , 0:2].values\n",
        "Y = passenger.iloc[ : , 2].values\n",
        "print(X)\n",
        "print(Y)"
      ],
      "execution_count": 78,
      "outputs": [
        {
          "output_type": "stream",
          "text": [
            "[[2.4443 1.5438]\n",
            " [4.2409 1.899 ]\n",
            " [5.8097 2.4711]\n",
            " [6.4423 3.359 ]\n",
            " [5.8097 3.2406]\n",
            " [6.3917 3.8128]\n",
            " [6.8725 4.4441]\n",
            " [6.7966 3.6747]\n",
            " [8.163  4.7401]\n",
            " [7.4038 3.8917]\n",
            " [7.6316 4.602 ]\n",
            " [7.7581 5.7265]\n",
            " [6.5688 4.9571]\n",
            " [5.3543 3.9903]\n",
            " [4.4686 3.0236]\n",
            " [2.9757 2.0568]\n",
            " [2.4443 1.2676]\n",
            " [0.9008 1.169 ]\n",
            " [2.1154 1.7411]\n",
            " [3.2794 1.386 ]\n",
            " [4.165  1.5636]\n",
            " [4.8482 1.8793]\n",
            " [3.33   2.7868]\n",
            " [5.1518 3.5563]\n",
            " [6.2652 4.0693]\n",
            " [6.2652 4.3849]\n",
            " [7.2014 1.5438]\n",
            " [7.6569 2.412 ]\n",
            " [6.1387 1.7806]\n",
            " [4.4939 1.4057]\n",
            " [4.8735 2.6093]\n",
            " [5.5314 3.0828]\n",
            " [6.0121 3.9311]\n",
            " [7.1508 4.7598]\n",
            " [7.7075 5.3122]\n",
            " [8.3148 5.7068]\n",
            " [8.5172 5.1149]\n",
            " [8.7449 5.4109]\n",
            " [7.8593 3.8128]\n",
            " [6.999  3.2406]\n",
            " [5.5061 2.9052]\n",
            " [4.9241 2.6882]\n",
            " [6.6447 3.8325]\n",
            " [7.6822 4.5428]\n",
            " [8.0364 5.7857]\n",
            " [8.9221 6.5552]\n",
            " [7.8593 5.253 ]\n",
            " [6.5941 5.2333]\n",
            " [6.0374 4.7598]\n",
            " [2.7227 4.5822]\n",
            " [1.9383 3.6549]\n",
            " [1.6852 2.9841]\n",
            " [4.3168 4.4244]\n",
            " [3.4312 3.7536]\n",
            " [5.4808 5.2728]\n",
            " [4.1144 4.8387]\n",
            " [3.2034 4.4244]\n",
            " [4.1144 5.3911]\n",
            " [5.1012 6.0817]\n",
            " [4.8988 5.5687]\n",
            " [5.9615 6.4565]\n",
            " [5.7591 6.0028]\n",
            " [6.6953 6.7722]\n",
            " [5.7338 6.6538]\n",
            " [6.6194 7.1471]\n",
            " [7.2014 7.5219]\n",
            " [7.2014 6.8314]\n",
            " [8.5931 7.6206]\n",
            " [7.7581 7.1865]\n",
            " [7.7581 7.7784]\n",
            " [5.1012 7.6009]\n",
            " [4.2156 6.496 ]\n",
            " [3.4818 5.8055]\n",
            " [2.3684 5.0163]\n",
            " [1.7864 4.1876]\n",
            " [0.9008 3.4379]\n",
            " [0.9008 5.7857]\n",
            " [1.9636 6.3382]\n",
            " [1.4069 4.9571]\n",
            " [2.419  6.8511]\n",
            " [2.8745 6.0817]\n",
            " [4.0132 7.1668]\n",
            " [4.6711 7.226 ]\n",
            " [5.1771 8.1533]\n",
            " [6.2146 7.4825]\n",
            " [5.4555 7.0484]\n",
            " [5.9868 8.5084]\n",
            " [4.0891 7.5417]\n",
            " [2.3937 7.2063]\n",
            " [1.331  6.5355]\n",
            " [1.7358 5.4503]\n",
            " [2.4443 5.8449]\n",
            " [3.1781 4.8979]\n",
            " [4.6711 5.8055]\n",
            " [5.9868 7.3641]\n",
            " [4.6711 6.2592]\n",
            " [7.581  8.3703]\n",
            " [4.6457 8.5676]\n",
            " [4.6457 8.1676]]\n",
            "[1. 1. 1. 1. 1. 1. 1. 1. 1. 1. 1. 1. 1. 1. 1. 1. 1. 1. 1. 1. 1. 1. 1. 1.\n",
            " 1. 1. 1. 1. 1. 1. 1. 1. 1. 1. 1. 1. 1. 1. 1. 1. 1. 1. 1. 1. 1. 1. 1. 1.\n",
            " 1. 0. 0. 0. 0. 0. 0. 0. 0. 0. 0. 0. 0. 0. 0. 0. 0. 0. 0. 0. 0. 0. 0. 0.\n",
            " 0. 0. 0. 0. 0. 0. 0. 0. 0. 0. 0. 0. 0. 0. 0. 0. 0. 0. 0. 0. 0. 0. 0. 0.\n",
            " 0. 0. 0.]\n"
          ],
          "name": "stdout"
        }
      ]
    },
    {
      "cell_type": "markdown",
      "metadata": {
        "id": "QXs6YOrO9pcx",
        "colab_type": "text"
      },
      "source": [
        "SPLITTING THE DATASET INTO TRAIN AND TEST SETS"
      ]
    },
    {
      "cell_type": "code",
      "metadata": {
        "id": "OFUfUbl79pcy",
        "colab_type": "code",
        "colab": {}
      },
      "source": [
        "from sklearn.model_selection import train_test_split\n",
        "X_train, X_test, Y_train, Y_test = train_test_split( X, Y, test_size = 0.30, random_state = 2)"
      ],
      "execution_count": 0,
      "outputs": []
    },
    {
      "cell_type": "markdown",
      "metadata": {
        "id": "tMqmVv_TTDPv",
        "colab_type": "text"
      },
      "source": [
        "X_test"
      ]
    },
    {
      "cell_type": "code",
      "metadata": {
        "id": "be_bAhJCS5-J",
        "colab_type": "code",
        "outputId": "48680b5c-908f-4322-f2b5-0b4dd4302eb1",
        "colab": {
          "base_uri": "https://localhost:8080/",
          "height": 1000
        }
      },
      "source": [
        "X_train"
      ],
      "execution_count": 80,
      "outputs": [
        {
          "output_type": "execute_result",
          "data": {
            "text/plain": [
              "array([[7.2014, 7.5219],\n",
              "       [4.2409, 1.899 ],\n",
              "       [2.1154, 1.7411],\n",
              "       [6.0374, 4.7598],\n",
              "       [8.5172, 5.1149],\n",
              "       [1.9636, 6.3382],\n",
              "       [6.8725, 4.4441],\n",
              "       [1.7864, 4.1876],\n",
              "       [1.7358, 5.4503],\n",
              "       [7.6316, 4.602 ],\n",
              "       [6.5688, 4.9571],\n",
              "       [3.4312, 3.7536],\n",
              "       [5.9868, 8.5084],\n",
              "       [5.4808, 5.2728],\n",
              "       [5.9868, 7.3641],\n",
              "       [6.0121, 3.9311],\n",
              "       [3.2794, 1.386 ],\n",
              "       [7.2014, 1.5438],\n",
              "       [5.9615, 6.4565],\n",
              "       [4.1144, 4.8387],\n",
              "       [7.4038, 3.8917],\n",
              "       [4.6711, 6.2592],\n",
              "       [0.9008, 1.169 ],\n",
              "       [4.8988, 5.5687],\n",
              "       [4.1144, 5.3911],\n",
              "       [4.9241, 2.6882],\n",
              "       [6.6194, 7.1471],\n",
              "       [8.9221, 6.5552],\n",
              "       [4.2156, 6.496 ],\n",
              "       [8.163 , 4.7401],\n",
              "       [5.1012, 7.6009],\n",
              "       [4.0132, 7.1668],\n",
              "       [1.331 , 6.5355],\n",
              "       [4.6457, 8.5676],\n",
              "       [4.0891, 7.5417],\n",
              "       [2.419 , 6.8511],\n",
              "       [1.9383, 3.6549],\n",
              "       [4.3168, 4.4244],\n",
              "       [7.2014, 6.8314],\n",
              "       [6.2146, 7.4825],\n",
              "       [7.8593, 5.253 ],\n",
              "       [7.7581, 7.1865],\n",
              "       [7.7581, 7.7784],\n",
              "       [2.8745, 6.0817],\n",
              "       [5.1012, 6.0817],\n",
              "       [7.1508, 4.7598],\n",
              "       [7.8593, 3.8128],\n",
              "       [1.6852, 2.9841],\n",
              "       [6.6447, 3.8325],\n",
              "       [5.8097, 3.2406],\n",
              "       [8.5931, 7.6206],\n",
              "       [6.999 , 3.2406],\n",
              "       [8.7449, 5.4109],\n",
              "       [4.165 , 1.5636],\n",
              "       [5.5314, 3.0828],\n",
              "       [5.7338, 6.6538],\n",
              "       [6.5941, 5.2333],\n",
              "       [5.4555, 7.0484],\n",
              "       [3.1781, 4.8979],\n",
              "       [2.7227, 4.5822],\n",
              "       [7.7075, 5.3122],\n",
              "       [6.7966, 3.6747],\n",
              "       [0.9008, 3.4379],\n",
              "       [4.6711, 7.226 ],\n",
              "       [7.6822, 4.5428],\n",
              "       [3.33  , 2.7868],\n",
              "       [3.4818, 5.8055],\n",
              "       [2.9757, 2.0568],\n",
              "       [5.5061, 2.9052]])"
            ]
          },
          "metadata": {
            "tags": []
          },
          "execution_count": 80
        }
      ]
    },
    {
      "cell_type": "code",
      "metadata": {
        "id": "GKvwpohQS2Ss",
        "colab_type": "code",
        "colab": {}
      },
      "source": [
        ""
      ],
      "execution_count": 0,
      "outputs": []
    },
    {
      "cell_type": "code",
      "metadata": {
        "id": "CPAYYivU9pc2",
        "colab_type": "code",
        "colab": {}
      },
      "source": [
        "from sklearn.linear_model import LinearRegression\n",
        "regressor = LinearRegression()\n",
        "regressor = regressor.fit(X_train, Y_train)"
      ],
      "execution_count": 0,
      "outputs": []
    },
    {
      "cell_type": "code",
      "metadata": {
        "id": "WYcEcbB59pc6",
        "colab_type": "code",
        "colab": {}
      },
      "source": [
        "Y_pred = regressor.predict(X_test)"
      ],
      "execution_count": 0,
      "outputs": []
    },
    {
      "cell_type": "code",
      "metadata": {
        "id": "jx6qnMDp9pdF",
        "colab_type": "code",
        "outputId": "cce872a0-dafd-45b8-c491-4a59b51cc010",
        "colab": {
          "base_uri": "https://localhost:8080/",
          "height": 51
        }
      },
      "source": [
        "from sklearn.metrics import mean_squared_error, r2_score\n",
        "import math\n",
        "print(mean_squared_error(Y_test, Y_pred))\n",
        "print(r2_score(Y_test, Y_pred))"
      ],
      "execution_count": 83,
      "outputs": [
        {
          "output_type": "stream",
          "text": [
            "0.053980309318655655\n",
            "0.7750820445056015\n"
          ],
          "name": "stdout"
        }
      ]
    },
    {
      "cell_type": "code",
      "metadata": {
        "id": "mIOTQDmx9pdJ",
        "colab_type": "code",
        "colab": {}
      },
      "source": [
        ""
      ],
      "execution_count": 0,
      "outputs": []
    }
  ]
}